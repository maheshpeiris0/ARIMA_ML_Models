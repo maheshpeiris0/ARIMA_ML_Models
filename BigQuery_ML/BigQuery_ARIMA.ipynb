{
 "cells": [
  {
   "cell_type": "code",
   "execution_count": 2,
   "metadata": {},
   "outputs": [],
   "source": [
    "import pandas as pd\n",
    "import os\n",
    "from google.cloud import bigquery\n",
    "import json\n",
    "from google.oauth2 import service_account\n",
    "import db_dtypes "
   ]
  },
  {
   "cell_type": "code",
   "execution_count": 3,
   "metadata": {},
   "outputs": [],
   "source": [
    "# Obtain the key from the environment variable\n",
    "service_account_key =os.getenv('GCP_ACCESS_KEY')\n",
    "if not service_account_key:\n",
    "    raise ValueError(\"The GCP_SERVICE_ACCOUNT_KEY environment variable is not set\")\n",
    "\n",
    "key_data = json.loads(service_account_key)\n",
    "\n",
    "credentials = service_account.Credentials.from_service_account_info(\n",
    "    key_data,\n",
    "    scopes=[\"https://www.googleapis.com/auth/cloud-platform\"],\n",
    ")\n"
   ]
  },
  {
   "cell_type": "code",
   "execution_count": 4,
   "metadata": {},
   "outputs": [],
   "source": [
    "service_acc_key=os.getenv('GCP_ACCESS_KEY')"
   ]
  },
  {
   "cell_type": "code",
   "execution_count": 5,
   "metadata": {},
   "outputs": [],
   "source": [
    "project_id = os.getenv('GOOGLE_PROJECT_MAIN_FP')"
   ]
  },
  {
   "cell_type": "code",
   "execution_count": 9,
   "metadata": {},
   "outputs": [],
   "source": [
    "client = bigquery.Client(credentials=credentials,project=project_id)"
   ]
  },
  {
   "cell_type": "code",
   "execution_count": 10,
   "metadata": {},
   "outputs": [],
   "source": [
    "sql = \"\"\"\n",
    "SELECT * FROM `bigquery-public-data.san_francisco.bikeshare_trips` LIMIT 10\n",
    " \"\"\""
   ]
  },
  {
   "cell_type": "code",
   "execution_count": 11,
   "metadata": {},
   "outputs": [],
   "source": [
    "# import pandas_gbq\n",
    "# df = pandas_gbq.read_gbq(sql, project_id=project_id, credentials=credentials, progress_bar_type=None)"
   ]
  },
  {
   "cell_type": "code",
   "execution_count": 12,
   "metadata": {},
   "outputs": [],
   "source": [
    "\n",
    "df = client.query(sql).to_dataframe()"
   ]
  },
  {
   "cell_type": "code",
   "execution_count": 13,
   "metadata": {},
   "outputs": [
    {
     "data": {
      "text/html": [
       "<div>\n",
       "<style scoped>\n",
       "    .dataframe tbody tr th:only-of-type {\n",
       "        vertical-align: middle;\n",
       "    }\n",
       "\n",
       "    .dataframe tbody tr th {\n",
       "        vertical-align: top;\n",
       "    }\n",
       "\n",
       "    .dataframe thead th {\n",
       "        text-align: right;\n",
       "    }\n",
       "</style>\n",
       "<table border=\"1\" class=\"dataframe\">\n",
       "  <thead>\n",
       "    <tr style=\"text-align: right;\">\n",
       "      <th></th>\n",
       "      <th>trip_id</th>\n",
       "      <th>duration_sec</th>\n",
       "      <th>start_date</th>\n",
       "      <th>start_station_name</th>\n",
       "      <th>start_station_id</th>\n",
       "      <th>end_date</th>\n",
       "      <th>end_station_name</th>\n",
       "      <th>end_station_id</th>\n",
       "      <th>bike_number</th>\n",
       "      <th>zip_code</th>\n",
       "      <th>subscriber_type</th>\n",
       "    </tr>\n",
       "  </thead>\n",
       "  <tbody>\n",
       "    <tr>\n",
       "      <th>0</th>\n",
       "      <td>1235850</td>\n",
       "      <td>1540</td>\n",
       "      <td>2016-06-11 08:19:00+00:00</td>\n",
       "      <td>San Jose Diridon Caltrain Station</td>\n",
       "      <td>2</td>\n",
       "      <td>2016-06-11 08:45:00+00:00</td>\n",
       "      <td>San Jose Diridon Caltrain Station</td>\n",
       "      <td>2</td>\n",
       "      <td>124</td>\n",
       "      <td>15206</td>\n",
       "      <td>Customer</td>\n",
       "    </tr>\n",
       "    <tr>\n",
       "      <th>1</th>\n",
       "      <td>1219337</td>\n",
       "      <td>6324</td>\n",
       "      <td>2016-05-29 12:49:00+00:00</td>\n",
       "      <td>San Jose Diridon Caltrain Station</td>\n",
       "      <td>2</td>\n",
       "      <td>2016-05-29 14:34:00+00:00</td>\n",
       "      <td>San Jose Diridon Caltrain Station</td>\n",
       "      <td>2</td>\n",
       "      <td>174</td>\n",
       "      <td>55416</td>\n",
       "      <td>Customer</td>\n",
       "    </tr>\n",
       "    <tr>\n",
       "      <th>2</th>\n",
       "      <td>793762</td>\n",
       "      <td>115572</td>\n",
       "      <td>2015-06-04 09:22:00+00:00</td>\n",
       "      <td>San Jose Diridon Caltrain Station</td>\n",
       "      <td>2</td>\n",
       "      <td>2015-06-05 17:28:00+00:00</td>\n",
       "      <td>San Jose Diridon Caltrain Station</td>\n",
       "      <td>2</td>\n",
       "      <td>190</td>\n",
       "      <td>95391</td>\n",
       "      <td>Customer</td>\n",
       "    </tr>\n",
       "    <tr>\n",
       "      <th>3</th>\n",
       "      <td>453845</td>\n",
       "      <td>54120</td>\n",
       "      <td>2014-09-15 16:53:00+00:00</td>\n",
       "      <td>San Jose Diridon Caltrain Station</td>\n",
       "      <td>2</td>\n",
       "      <td>2014-09-16 07:55:00+00:00</td>\n",
       "      <td>San Jose Diridon Caltrain Station</td>\n",
       "      <td>2</td>\n",
       "      <td>127</td>\n",
       "      <td>81</td>\n",
       "      <td>Customer</td>\n",
       "    </tr>\n",
       "    <tr>\n",
       "      <th>4</th>\n",
       "      <td>1245113</td>\n",
       "      <td>5018</td>\n",
       "      <td>2016-06-17 20:08:00+00:00</td>\n",
       "      <td>San Jose Diridon Caltrain Station</td>\n",
       "      <td>2</td>\n",
       "      <td>2016-06-17 21:32:00+00:00</td>\n",
       "      <td>San Jose Diridon Caltrain Station</td>\n",
       "      <td>2</td>\n",
       "      <td>153</td>\n",
       "      <td>95070</td>\n",
       "      <td>Customer</td>\n",
       "    </tr>\n",
       "  </tbody>\n",
       "</table>\n",
       "</div>"
      ],
      "text/plain": [
       "   trip_id  duration_sec                start_date  \\\n",
       "0  1235850          1540 2016-06-11 08:19:00+00:00   \n",
       "1  1219337          6324 2016-05-29 12:49:00+00:00   \n",
       "2   793762        115572 2015-06-04 09:22:00+00:00   \n",
       "3   453845         54120 2014-09-15 16:53:00+00:00   \n",
       "4  1245113          5018 2016-06-17 20:08:00+00:00   \n",
       "\n",
       "                  start_station_name  start_station_id  \\\n",
       "0  San Jose Diridon Caltrain Station                 2   \n",
       "1  San Jose Diridon Caltrain Station                 2   \n",
       "2  San Jose Diridon Caltrain Station                 2   \n",
       "3  San Jose Diridon Caltrain Station                 2   \n",
       "4  San Jose Diridon Caltrain Station                 2   \n",
       "\n",
       "                   end_date                   end_station_name  \\\n",
       "0 2016-06-11 08:45:00+00:00  San Jose Diridon Caltrain Station   \n",
       "1 2016-05-29 14:34:00+00:00  San Jose Diridon Caltrain Station   \n",
       "2 2015-06-05 17:28:00+00:00  San Jose Diridon Caltrain Station   \n",
       "3 2014-09-16 07:55:00+00:00  San Jose Diridon Caltrain Station   \n",
       "4 2016-06-17 21:32:00+00:00  San Jose Diridon Caltrain Station   \n",
       "\n",
       "   end_station_id  bike_number zip_code subscriber_type  \n",
       "0               2          124    15206        Customer  \n",
       "1               2          174    55416        Customer  \n",
       "2               2          190    95391        Customer  \n",
       "3               2          127       81        Customer  \n",
       "4               2          153    95070        Customer  "
      ]
     },
     "execution_count": 13,
     "metadata": {},
     "output_type": "execute_result"
    }
   ],
   "source": [
    "df.head()"
   ]
  },
  {
   "cell_type": "code",
   "execution_count": 18,
   "metadata": {},
   "outputs": [
    {
     "data": {
      "text/plain": [
       "(151245, 3)"
      ]
     },
     "execution_count": 18,
     "metadata": {},
     "output_type": "execute_result"
    }
   ],
   "source": [
    "df.shape"
   ]
  },
  {
   "cell_type": "code",
   "execution_count": 17,
   "metadata": {},
   "outputs": [
    {
     "data": {
      "text/plain": [
       "city_name\n",
       "Atlanta             18942\n",
       "Washington          18942\n",
       "Chicago             18932\n",
       "Ciudad de México    18932\n",
       "Seattle             18912\n",
       "San Francisco       18912\n",
       "New York            18850\n",
       "Los Angeles         18823\n",
       "Name: count, dtype: int64"
      ]
     },
     "execution_count": 17,
     "metadata": {},
     "output_type": "execute_result"
    }
   ],
   "source": [
    "df['city_name'].value_counts()"
   ]
  },
  {
   "cell_type": "markdown",
   "metadata": {},
   "source": [
    "#### BigQuery Model Creations"
   ]
  },
  {
   "cell_type": "code",
   "execution_count": 14,
   "metadata": {},
   "outputs": [],
   "source": [
    "table_name = \"'bigquery-public-data.san_francisco.bikeshare_trips'\""
   ]
  },
  {
   "cell_type": "code",
   "execution_count": 15,
   "metadata": {},
   "outputs": [
    {
     "ename": "BadRequest",
     "evalue": "400 Query parameters cannot be used in place of table names at [2:2]\n\nLocation: US\nJob ID: cf19d0c4-8fcd-40b5-aa55-a17cb3838cdf\n",
     "output_type": "error",
     "traceback": [
      "\u001b[0;31m---------------------------------------------------------------------------\u001b[0m",
      "\u001b[0;31mBadRequest\u001b[0m                                Traceback (most recent call last)",
      "\u001b[1;32m/workspaces/ARIMA_ML_Models/BigQuery_ML/BigQuery_ARIMA.ipynb Cell 14\u001b[0m line \u001b[0;36m1\n\u001b[1;32m      <a href='vscode-notebook-cell://codespaces%2Bsupreme-space-xylophone-6vwwqpgqr473r6g7/workspaces/ARIMA_ML_Models/BigQuery_ML/BigQuery_ARIMA.ipynb#X16sdnNjb2RlLXJlbW90ZQ%3D%3D?line=6'>7</a>\u001b[0m sql \u001b[39m=\u001b[39m \u001b[39m\"\"\"\u001b[39m\u001b[39m SELECT * FROM\u001b[39m\n\u001b[1;32m      <a href='vscode-notebook-cell://codespaces%2Bsupreme-space-xylophone-6vwwqpgqr473r6g7/workspaces/ARIMA_ML_Models/BigQuery_ML/BigQuery_ARIMA.ipynb#X16sdnNjb2RlLXJlbW90ZQ%3D%3D?line=7'>8</a>\u001b[0m \u001b[39m @table_name \u001b[39m\u001b[39m\"\"\"\u001b[39m\n\u001b[1;32m     <a href='vscode-notebook-cell://codespaces%2Bsupreme-space-xylophone-6vwwqpgqr473r6g7/workspaces/ARIMA_ML_Models/BigQuery_ML/BigQuery_ARIMA.ipynb#X16sdnNjb2RlLXJlbW90ZQ%3D%3D?line=9'>10</a>\u001b[0m query_job \u001b[39m=\u001b[39m client\u001b[39m.\u001b[39mquery(sql, job_config\u001b[39m=\u001b[39mjob_config)\n\u001b[0;32m---> <a href='vscode-notebook-cell://codespaces%2Bsupreme-space-xylophone-6vwwqpgqr473r6g7/workspaces/ARIMA_ML_Models/BigQuery_ML/BigQuery_ARIMA.ipynb#X16sdnNjb2RlLXJlbW90ZQ%3D%3D?line=10'>11</a>\u001b[0m query_job\u001b[39m.\u001b[39;49mresult()\n\u001b[1;32m     <a href='vscode-notebook-cell://codespaces%2Bsupreme-space-xylophone-6vwwqpgqr473r6g7/workspaces/ARIMA_ML_Models/BigQuery_ML/BigQuery_ARIMA.ipynb#X16sdnNjb2RlLXJlbW90ZQ%3D%3D?line=11'>12</a>\u001b[0m \u001b[39mprint\u001b[39m(\u001b[39m\"\u001b[39m\u001b[39m Model is created successfully\u001b[39m\u001b[39m\"\u001b[39m)\n",
      "File \u001b[0;32m~/.python/current/lib/python3.10/site-packages/google/cloud/bigquery/job/query.py:1580\u001b[0m, in \u001b[0;36mQueryJob.result\u001b[0;34m(self, page_size, max_results, retry, timeout, start_index, job_retry)\u001b[0m\n\u001b[1;32m   1577\u001b[0m     \u001b[39mif\u001b[39;00m retry_do_query \u001b[39mis\u001b[39;00m \u001b[39mnot\u001b[39;00m \u001b[39mNone\u001b[39;00m \u001b[39mand\u001b[39;00m job_retry \u001b[39mis\u001b[39;00m \u001b[39mnot\u001b[39;00m \u001b[39mNone\u001b[39;00m:\n\u001b[1;32m   1578\u001b[0m         do_get_result \u001b[39m=\u001b[39m job_retry(do_get_result)\n\u001b[0;32m-> 1580\u001b[0m     do_get_result()\n\u001b[1;32m   1582\u001b[0m \u001b[39mexcept\u001b[39;00m exceptions\u001b[39m.\u001b[39mGoogleAPICallError \u001b[39mas\u001b[39;00m exc:\n\u001b[1;32m   1583\u001b[0m     exc\u001b[39m.\u001b[39mmessage \u001b[39m=\u001b[39m _EXCEPTION_FOOTER_TEMPLATE\u001b[39m.\u001b[39mformat(\n\u001b[1;32m   1584\u001b[0m         message\u001b[39m=\u001b[39mexc\u001b[39m.\u001b[39mmessage, location\u001b[39m=\u001b[39m\u001b[39mself\u001b[39m\u001b[39m.\u001b[39mlocation, job_id\u001b[39m=\u001b[39m\u001b[39mself\u001b[39m\u001b[39m.\u001b[39mjob_id\n\u001b[1;32m   1585\u001b[0m     )\n",
      "File \u001b[0;32m~/.python/current/lib/python3.10/site-packages/google/api_core/retry.py:372\u001b[0m, in \u001b[0;36mRetry.__call__.<locals>.retry_wrapped_func\u001b[0;34m(*args, **kwargs)\u001b[0m\n\u001b[1;32m    368\u001b[0m target \u001b[39m=\u001b[39m functools\u001b[39m.\u001b[39mpartial(func, \u001b[39m*\u001b[39margs, \u001b[39m*\u001b[39m\u001b[39m*\u001b[39mkwargs)\n\u001b[1;32m    369\u001b[0m sleep_generator \u001b[39m=\u001b[39m exponential_sleep_generator(\n\u001b[1;32m    370\u001b[0m     \u001b[39mself\u001b[39m\u001b[39m.\u001b[39m_initial, \u001b[39mself\u001b[39m\u001b[39m.\u001b[39m_maximum, multiplier\u001b[39m=\u001b[39m\u001b[39mself\u001b[39m\u001b[39m.\u001b[39m_multiplier\n\u001b[1;32m    371\u001b[0m )\n\u001b[0;32m--> 372\u001b[0m \u001b[39mreturn\u001b[39;00m retry_target(\n\u001b[1;32m    373\u001b[0m     target,\n\u001b[1;32m    374\u001b[0m     \u001b[39mself\u001b[39;49m\u001b[39m.\u001b[39;49m_predicate,\n\u001b[1;32m    375\u001b[0m     sleep_generator,\n\u001b[1;32m    376\u001b[0m     \u001b[39mself\u001b[39;49m\u001b[39m.\u001b[39;49m_timeout,\n\u001b[1;32m    377\u001b[0m     on_error\u001b[39m=\u001b[39;49mon_error,\n\u001b[1;32m    378\u001b[0m )\n",
      "File \u001b[0;32m~/.python/current/lib/python3.10/site-packages/google/api_core/retry.py:207\u001b[0m, in \u001b[0;36mretry_target\u001b[0;34m(target, predicate, sleep_generator, timeout, on_error, **kwargs)\u001b[0m\n\u001b[1;32m    205\u001b[0m \u001b[39mfor\u001b[39;00m sleep \u001b[39min\u001b[39;00m sleep_generator:\n\u001b[1;32m    206\u001b[0m     \u001b[39mtry\u001b[39;00m:\n\u001b[0;32m--> 207\u001b[0m         result \u001b[39m=\u001b[39m target()\n\u001b[1;32m    208\u001b[0m         \u001b[39mif\u001b[39;00m inspect\u001b[39m.\u001b[39misawaitable(result):\n\u001b[1;32m    209\u001b[0m             warnings\u001b[39m.\u001b[39mwarn(_ASYNC_RETRY_WARNING)\n",
      "File \u001b[0;32m~/.python/current/lib/python3.10/site-packages/google/cloud/bigquery/job/query.py:1570\u001b[0m, in \u001b[0;36mQueryJob.result.<locals>.do_get_result\u001b[0;34m()\u001b[0m\n\u001b[1;32m   1567\u001b[0m     \u001b[39mself\u001b[39m\u001b[39m.\u001b[39m_retry_do_query \u001b[39m=\u001b[39m retry_do_query\n\u001b[1;32m   1568\u001b[0m     \u001b[39mself\u001b[39m\u001b[39m.\u001b[39m_job_retry \u001b[39m=\u001b[39m job_retry\n\u001b[0;32m-> 1570\u001b[0m \u001b[39msuper\u001b[39;49m(QueryJob, \u001b[39mself\u001b[39;49m)\u001b[39m.\u001b[39;49mresult(retry\u001b[39m=\u001b[39;49mretry, timeout\u001b[39m=\u001b[39;49mtimeout)\n\u001b[1;32m   1572\u001b[0m \u001b[39m# Since the job could already be \"done\" (e.g. got a finished job\u001b[39;00m\n\u001b[1;32m   1573\u001b[0m \u001b[39m# via client.get_job), the superclass call to done() might not\u001b[39;00m\n\u001b[1;32m   1574\u001b[0m \u001b[39m# set the self._query_results cache.\u001b[39;00m\n\u001b[1;32m   1575\u001b[0m \u001b[39mself\u001b[39m\u001b[39m.\u001b[39m_reload_query_results(retry\u001b[39m=\u001b[39mretry, timeout\u001b[39m=\u001b[39mtimeout)\n",
      "File \u001b[0;32m~/.python/current/lib/python3.10/site-packages/google/cloud/bigquery/job/base.py:922\u001b[0m, in \u001b[0;36m_AsyncJob.result\u001b[0;34m(self, retry, timeout)\u001b[0m\n\u001b[1;32m    919\u001b[0m     \u001b[39mself\u001b[39m\u001b[39m.\u001b[39m_begin(retry\u001b[39m=\u001b[39mretry, timeout\u001b[39m=\u001b[39mtimeout)\n\u001b[1;32m    921\u001b[0m kwargs \u001b[39m=\u001b[39m {} \u001b[39mif\u001b[39;00m retry \u001b[39mis\u001b[39;00m DEFAULT_RETRY \u001b[39melse\u001b[39;00m {\u001b[39m\"\u001b[39m\u001b[39mretry\u001b[39m\u001b[39m\"\u001b[39m: retry}\n\u001b[0;32m--> 922\u001b[0m \u001b[39mreturn\u001b[39;00m \u001b[39msuper\u001b[39;49m(_AsyncJob, \u001b[39mself\u001b[39;49m)\u001b[39m.\u001b[39;49mresult(timeout\u001b[39m=\u001b[39;49mtimeout, \u001b[39m*\u001b[39;49m\u001b[39m*\u001b[39;49mkwargs)\n",
      "File \u001b[0;32m~/.python/current/lib/python3.10/site-packages/google/api_core/future/polling.py:261\u001b[0m, in \u001b[0;36mPollingFuture.result\u001b[0;34m(self, timeout, retry, polling)\u001b[0m\n\u001b[1;32m    256\u001b[0m \u001b[39mself\u001b[39m\u001b[39m.\u001b[39m_blocking_poll(timeout\u001b[39m=\u001b[39mtimeout, retry\u001b[39m=\u001b[39mretry, polling\u001b[39m=\u001b[39mpolling)\n\u001b[1;32m    258\u001b[0m \u001b[39mif\u001b[39;00m \u001b[39mself\u001b[39m\u001b[39m.\u001b[39m_exception \u001b[39mis\u001b[39;00m \u001b[39mnot\u001b[39;00m \u001b[39mNone\u001b[39;00m:\n\u001b[1;32m    259\u001b[0m     \u001b[39m# pylint: disable=raising-bad-type\u001b[39;00m\n\u001b[1;32m    260\u001b[0m     \u001b[39m# Pylint doesn't recognize that this is valid in this case.\u001b[39;00m\n\u001b[0;32m--> 261\u001b[0m     \u001b[39mraise\u001b[39;00m \u001b[39mself\u001b[39m\u001b[39m.\u001b[39m_exception\n\u001b[1;32m    263\u001b[0m \u001b[39mreturn\u001b[39;00m \u001b[39mself\u001b[39m\u001b[39m.\u001b[39m_result\n",
      "\u001b[0;31mBadRequest\u001b[0m: 400 Query parameters cannot be used in place of table names at [2:2]\n\nLocation: US\nJob ID: cf19d0c4-8fcd-40b5-aa55-a17cb3838cdf\n"
     ]
    }
   ],
   "source": [
    "query_papams = [\n",
    "    bigquery.ScalarQueryParameter(\"table_name\", \"STRING\", \"San Francisco\"),\n",
    "]\n",
    "job_config = bigquery.QueryJobConfig()\n",
    "job_config.query_parameters = query_papams\n",
    "\n",
    "sql = \"\"\" SELECT * FROM\n",
    " @table_name \"\"\"\n",
    "\n",
    "query_job = client.query(sql, job_config=job_config)\n",
    "query_job.result()\n",
    "print(\" Model is created successfully\")"
   ]
  },
  {
   "cell_type": "code",
   "execution_count": null,
   "metadata": {},
   "outputs": [],
   "source": [
    "sql = \"\"\"\n",
    "SELECT * FROM `bigquery-public-data.covid19_geotab_mobility_impact.city_congestion` \n",
    " \"\"\"\n",
    "model_creation = client.query(sql).to_dataframe()"
   ]
  }
 ],
 "metadata": {
  "kernelspec": {
   "display_name": "Python 3",
   "language": "python",
   "name": "python3"
  },
  "language_info": {
   "codemirror_mode": {
    "name": "ipython",
    "version": 3
   },
   "file_extension": ".py",
   "mimetype": "text/x-python",
   "name": "python",
   "nbconvert_exporter": "python",
   "pygments_lexer": "ipython3",
   "version": "3.10.13"
  }
 },
 "nbformat": 4,
 "nbformat_minor": 2
}
