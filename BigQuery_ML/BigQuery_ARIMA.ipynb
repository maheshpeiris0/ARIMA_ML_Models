{
 "cells": [
  {
   "cell_type": "code",
   "execution_count": 1,
   "metadata": {},
   "outputs": [],
   "source": [
    "import pandas as pd\n",
    "import os\n",
    "from google.cloud import bigquery\n",
    "import json\n",
    "from google.oauth2 import service_account\n",
    "import db_dtypes "
   ]
  },
  {
   "cell_type": "code",
   "execution_count": 3,
   "metadata": {},
   "outputs": [],
   "source": [
    "# Obtain the key from the environment variable\n",
    "service_account_key =os.getenv('GCP_ACCESS_KEY')\n",
    "if not service_account_key:\n",
    "    raise ValueError(\"The GCP_SERVICE_ACCOUNT_KEY environment variable is not set\")\n",
    "\n",
    "key_data = json.loads(service_account_key)\n",
    "\n",
    "credentials = service_account.Credentials.from_service_account_info(\n",
    "    key_data,\n",
    "    scopes=[\"https://www.googleapis.com/auth/cloud-platform\"],\n",
    ")\n"
   ]
  },
  {
   "cell_type": "code",
   "execution_count": 4,
   "metadata": {},
   "outputs": [],
   "source": [
    "service_acc_key=os.getenv('GCP_ACCESS_KEY')"
   ]
  },
  {
   "cell_type": "code",
   "execution_count": 5,
   "metadata": {},
   "outputs": [],
   "source": [
    "project_id = os.getenv('GOOGLE_PROJECT_MAIN_FP')"
   ]
  },
  {
   "cell_type": "code",
   "execution_count": 6,
   "metadata": {},
   "outputs": [],
   "source": [
    "client = bigquery.Client(credentials=credentials,project=project_id)"
   ]
  },
  {
   "cell_type": "code",
   "execution_count": 8,
   "metadata": {},
   "outputs": [],
   "source": [
    "sql = \"\"\"\n",
    "SELECT * FROM `bigquery-public-data.austin_waste.waste_and_diversion` LIMIT 10\n",
    " \"\"\""
   ]
  },
  {
   "cell_type": "code",
   "execution_count": 9,
   "metadata": {},
   "outputs": [],
   "source": [
    "# import pandas_gbq\n",
    "# df = pandas_gbq.read_gbq(sql, project_id=project_id, credentials=credentials, progress_bar_type=None)"
   ]
  },
  {
   "cell_type": "code",
   "execution_count": 10,
   "metadata": {},
   "outputs": [],
   "source": [
    "sql = \"\"\"\n",
    "SELECT * FROM `bigquery-public-data.austin_waste.waste_and_diversion` LIMIT 10\n",
    " \"\"\"\n",
    "df = client.query(sql).to_dataframe()"
   ]
  },
  {
   "cell_type": "code",
   "execution_count": 11,
   "metadata": {},
   "outputs": [
    {
     "data": {
      "text/html": [
       "<div>\n",
       "<style scoped>\n",
       "    .dataframe tbody tr th:only-of-type {\n",
       "        vertical-align: middle;\n",
       "    }\n",
       "\n",
       "    .dataframe tbody tr th {\n",
       "        vertical-align: top;\n",
       "    }\n",
       "\n",
       "    .dataframe thead th {\n",
       "        text-align: right;\n",
       "    }\n",
       "</style>\n",
       "<table border=\"1\" class=\"dataframe\">\n",
       "  <thead>\n",
       "    <tr style=\"text-align: right;\">\n",
       "      <th></th>\n",
       "      <th>load_id</th>\n",
       "      <th>report_date</th>\n",
       "      <th>load_type</th>\n",
       "      <th>load_time</th>\n",
       "      <th>load_weight</th>\n",
       "      <th>dropoff_site</th>\n",
       "      <th>route_type</th>\n",
       "      <th>route_number</th>\n",
       "    </tr>\n",
       "  </thead>\n",
       "  <tbody>\n",
       "    <tr>\n",
       "      <th>0</th>\n",
       "      <td>336590</td>\n",
       "      <td>2009-08-07</td>\n",
       "      <td>RECYCLING - SINGLE STREAM</td>\n",
       "      <td>2009-08-07 11:51:00+00:00</td>\n",
       "      <td>4400.0</td>\n",
       "      <td>MRF</td>\n",
       "      <td>RECYCLING - SINGLE STREAM</td>\n",
       "      <td>DF1</td>\n",
       "    </tr>\n",
       "    <tr>\n",
       "      <th>1</th>\n",
       "      <td>274232</td>\n",
       "      <td>2008-04-11</td>\n",
       "      <td>RECYCLING - PAPER</td>\n",
       "      <td>2008-04-11 12:31:00+00:00</td>\n",
       "      <td>1920.0</td>\n",
       "      <td>MRF</td>\n",
       "      <td>RECYCLING - SINGLE STREAM</td>\n",
       "      <td>DF1</td>\n",
       "    </tr>\n",
       "    <tr>\n",
       "      <th>2</th>\n",
       "      <td>312167</td>\n",
       "      <td>2009-01-16</td>\n",
       "      <td>RECYCLING - SINGLE STREAM</td>\n",
       "      <td>2009-01-16 12:58:00+00:00</td>\n",
       "      <td>4140.0</td>\n",
       "      <td>MRF</td>\n",
       "      <td>RECYCLING - SINGLE STREAM</td>\n",
       "      <td>DF1</td>\n",
       "    </tr>\n",
       "    <tr>\n",
       "      <th>3</th>\n",
       "      <td>333746</td>\n",
       "      <td>2009-07-10</td>\n",
       "      <td>RECYCLING - SINGLE STREAM</td>\n",
       "      <td>2009-07-10 11:21:00+00:00</td>\n",
       "      <td>4020.0</td>\n",
       "      <td>MRF</td>\n",
       "      <td>RECYCLING - SINGLE STREAM</td>\n",
       "      <td>DF1</td>\n",
       "    </tr>\n",
       "    <tr>\n",
       "      <th>4</th>\n",
       "      <td>164543</td>\n",
       "      <td>2006-02-03</td>\n",
       "      <td>RECYCLING - COMINGLE</td>\n",
       "      <td>2006-02-03 12:36:00+00:00</td>\n",
       "      <td>1700.0</td>\n",
       "      <td>MRF</td>\n",
       "      <td>RECYCLING - SINGLE STREAM</td>\n",
       "      <td>DF1</td>\n",
       "    </tr>\n",
       "  </tbody>\n",
       "</table>\n",
       "</div>"
      ],
      "text/plain": [
       "   load_id report_date                  load_type                 load_time  \\\n",
       "0   336590  2009-08-07  RECYCLING - SINGLE STREAM 2009-08-07 11:51:00+00:00   \n",
       "1   274232  2008-04-11          RECYCLING - PAPER 2008-04-11 12:31:00+00:00   \n",
       "2   312167  2009-01-16  RECYCLING - SINGLE STREAM 2009-01-16 12:58:00+00:00   \n",
       "3   333746  2009-07-10  RECYCLING - SINGLE STREAM 2009-07-10 11:21:00+00:00   \n",
       "4   164543  2006-02-03       RECYCLING - COMINGLE 2006-02-03 12:36:00+00:00   \n",
       "\n",
       "   load_weight dropoff_site                 route_type route_number  \n",
       "0       4400.0          MRF  RECYCLING - SINGLE STREAM          DF1  \n",
       "1       1920.0          MRF  RECYCLING - SINGLE STREAM          DF1  \n",
       "2       4140.0          MRF  RECYCLING - SINGLE STREAM          DF1  \n",
       "3       4020.0          MRF  RECYCLING - SINGLE STREAM          DF1  \n",
       "4       1700.0          MRF  RECYCLING - SINGLE STREAM          DF1  "
      ]
     },
     "execution_count": 11,
     "metadata": {},
     "output_type": "execute_result"
    }
   ],
   "source": [
    "df.head()"
   ]
  },
  {
   "cell_type": "code",
   "execution_count": null,
   "metadata": {},
   "outputs": [],
   "source": []
  }
 ],
 "metadata": {
  "kernelspec": {
   "display_name": "Python 3",
   "language": "python",
   "name": "python3"
  },
  "language_info": {
   "codemirror_mode": {
    "name": "ipython",
    "version": 3
   },
   "file_extension": ".py",
   "mimetype": "text/x-python",
   "name": "python",
   "nbconvert_exporter": "python",
   "pygments_lexer": "ipython3",
   "version": "3.10.13"
  }
 },
 "nbformat": 4,
 "nbformat_minor": 2
}
